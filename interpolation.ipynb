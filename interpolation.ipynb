{
 "cells": [
  {
   "cell_type": "markdown",
   "metadata": {},
   "source": [
    "## Lagrange interpolation polynomial code in equidistant and unequidistant nodes:"
   ]
  },
  {
   "cell_type": "code",
   "execution_count": 1,
   "metadata": {},
   "outputs": [],
   "source": [
    "def lagrange_interpolation(nodes, values, x):\n",
    "    n = len(nodes)\n",
    "    result = 0\n",
    "    for i in range(n):\n",
    "        term = values[i]\n",
    "        for j in range(n):\n",
    "          if j != i:\n",
    "            term *= (x - nodes[j]) / (nodes[i] - nodes[j])\n",
    "        result += term\n",
    "    return result"
   ]
  },
  {
   "cell_type": "markdown",
   "metadata": {},
   "source": [
    "### in equidistant nodes: "
   ]
  },
  {
   "cell_type": "markdown",
   "metadata": {},
   "source": [
    "![values](values_1.jpg)"
   ]
  },
  {
   "cell_type": "code",
   "execution_count": 2,
   "metadata": {},
   "outputs": [
    {
     "data": {
      "text/plain": [
       "1.1538354722738202"
      ]
     },
     "execution_count": 2,
     "metadata": {},
     "output_type": "execute_result"
    }
   ],
   "source": [
    "X = [0.02, 0.08, 0.12, 0.17, 0.23, 0.30]\n",
    "Y = [1.02316, 1.09590, 1.14725, 1.21483, 1.30120, 1.40976]\n",
    "X_14_v=0.125\n",
    "\n",
    "lagrange_interpolation(X,Y,X_14_v)"
   ]
  },
  {
   "cell_type": "markdown",
   "metadata": {},
   "source": [
    "### in unequally spaced nodes: "
   ]
  },
  {
   "cell_type": "markdown",
   "metadata": {},
   "source": [
    "![values](values_3.jpg)"
   ]
  },
  {
   "cell_type": "code",
   "execution_count": 3,
   "metadata": {},
   "outputs": [
    {
     "data": {
      "text/plain": [
       "8.07577211166331"
      ]
     },
     "execution_count": 3,
     "metadata": {},
     "output_type": "execute_result"
    }
   ],
   "source": [
    "X = [0.115, 0.120, 0.125, 0.130, 0.135, 0.140]\n",
    "Y = [8.65729, 8.29329, 7.95829, 7.64893, 7.36235, 7.09613]\n",
    "X_14_v = 0.1232\n",
    "\n",
    "lagrange_interpolation(X,Y,X_14_v)"
   ]
  },
  {
   "cell_type": "markdown",
   "metadata": {},
   "source": [
    "## Newton's interpolation formulas of the first and second forms"
   ]
  },
  {
   "cell_type": "code",
   "execution_count": 4,
   "metadata": {},
   "outputs": [],
   "source": [
    "import math\n",
    "\n",
    "def create_difference_matrix(vector, a):\n",
    "    matrix = []\n",
    "    new_vector1 = []\n",
    "    new_vector2 = []\n",
    "    while len(vector) > 1:\n",
    "        diff_column = [vector[i+1] - vector[i] for i in range(len(vector) - 1)]\n",
    "        matrix.append(diff_column)\n",
    "        new_vector1.append(vector[0])\n",
    "        new_vector2.append(vector[-1])\n",
    "        vector = diff_column \n",
    "\n",
    "    new_vector1.append(vector[0]) \n",
    "    new_vector2.append(vector[-1])\n",
    "\n",
    "    if a == 1:\n",
    "        return new_vector1\n",
    "    else:\n",
    "        return new_vector2\n",
    "    \n",
    "def newton_first(x, xi, yi):\n",
    "    n = len(xi)\n",
    "    h=0.05\n",
    "    y0=0.860708\n",
    "\n",
    "    for i in range(1, n):\n",
    "        diff = yi[i]\n",
    "        p = 1\n",
    "\n",
    "        for j in range(i):\n",
    "            p *= (x - xi[j])\n",
    "\n",
    "        y0 += (diff*p)/ math.factorial(i)*(h**i)\n",
    "\n",
    "    return y0\n",
    "\n",
    "def newton_second(x, xi, yi):\n",
    "    n = len(xi)\n",
    "    h=0.05\n",
    "    y0=0.472367\n",
    "\n",
    "    for i in range(1, n):\n",
    "        diff = yi[i]\n",
    "        p = 1\n",
    "\n",
    "        for j in range(i):\n",
    "            p *= (x - xi[n-1-j])\n",
    "\n",
    "        y0 += (diff*p)/ math.factorial(i)*(h**i)\n",
    "        \n",
    "    return y0"
   ]
  },
  {
   "cell_type": "markdown",
   "metadata": {},
   "source": [
    "![values](values_2.jpg)"
   ]
  },
  {
   "cell_type": "code",
   "execution_count": 5,
   "metadata": {},
   "outputs": [
    {
     "name": "stdout",
     "output_type": "stream",
     "text": [
      "0.86070233308911\n",
      "0.47174360099047175\n",
      "0.8607130372854439\n",
      "0.47236063483156143\n"
     ]
    }
   ],
   "source": [
    "X = [0.180, 0.185, 0.190, 0.195, 0.200, 0.205, 0.210, 0.215, 0.220, 0.225, 0.230, 0.235]\n",
    "Y = [0.860708, 0.818731, 0.778801, 0.740818, 0.704688, 0.670320, 0.637628, 0.606531, 0.576950, 0.548812, 0.522046, 0.496585]\n",
    "X_i = [0.1827, 0.7250, 0.1776, 0.240]\n",
    "\n",
    "DelY = create_difference_matrix(Y, 1)\n",
    "print(newton_first(X_i[0],X,DelY))\n",
    "\n",
    "DelY = create_difference_matrix(Y, 2)\n",
    "print(newton_second(X_i[1],X,DelY))\n",
    "\n",
    "DelY = create_difference_matrix(Y, 1)\n",
    "print(newton_first(X_i[2],X,DelY))\n",
    "\n",
    "DelY = create_difference_matrix(Y, 2)\n",
    "print(newton_second(X_i[3],X,DelY))"
   ]
  }
 ],
 "metadata": {
  "kernelspec": {
   "display_name": ".venv",
   "language": "python",
   "name": "python3"
  },
  "language_info": {
   "codemirror_mode": {
    "name": "ipython",
    "version": 3
   },
   "file_extension": ".py",
   "mimetype": "text/x-python",
   "name": "python",
   "nbconvert_exporter": "python",
   "pygments_lexer": "ipython3",
   "version": "3.11.4"
  }
 },
 "nbformat": 4,
 "nbformat_minor": 2
}
