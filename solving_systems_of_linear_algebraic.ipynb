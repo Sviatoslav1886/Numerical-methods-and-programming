{
 "cells": [
  {
   "attachments": {
    "equation.jpg": {
     "image/jpeg": "[encoded data removed]"
    }
   },
   "cell_type": "markdown",
   "metadata": {},
   "source": [
    "![equation.jpg](attachment:equation.jpg)"
   ]
  },
  {
   "cell_type": "markdown",
   "metadata": {},
   "source": [
    "## <b><span style='color:#F1C40F'>|</span> імпортуємо бібліотеки </b>"
   ]
  },
  {
   "cell_type": "code",
   "execution_count": 1,
   "metadata": {},
   "outputs": [],
   "source": [
    "import math\n",
    "import numpy as np"
   ]
  },
  {
   "cell_type": "markdown",
   "metadata": {},
   "source": [
    "## <b><span style='color:#F1C40F'>|</span> метод Крамера </b>"
   ]
  },
  {
   "cell_type": "markdown",
   "metadata": {},
   "source": [
    "### <b><span style='color:#F1C40F'>|</span> Реалізація метода </b>"
   ]
  },
  {
   "cell_type": "code",
   "execution_count": 2,
   "metadata": {},
   "outputs": [],
   "source": [
    "# Функція для обчислення детермінанту матриці\n",
    "def determinantOfMatrix(mat):\n",
    "    ans = 0\n",
    "    n = len(mat)\n",
    "\n",
    "    # Перевірка, чи матриця є квадратною\n",
    "    if n != len(mat[0]): \n",
    "        raise ValueError(\"Матриця має бути квадратною\")\n",
    "\n",
    "    # Детермінант одного елемента - цей елемент\n",
    "    if n == 1:  \n",
    "        return mat[0][0]\n",
    "\n",
    "    # Рекурсивно обчислюємо детермінант за допомогою розкладу по першому рядку\n",
    "    for i in range(n):\n",
    "        cofactor = []\n",
    "        for j in range(1, n):\n",
    "            row = []\n",
    "            for k in range(n):\n",
    "                if k != i:\n",
    "                    row.append(mat[j][k])\n",
    "            cofactor.append(row)\n",
    "        ans += mat[0][i] * ((-1) ** i) * determinantOfMatrix(cofactor)\n",
    "\n",
    "    return ans\n",
    "\n",
    "# Функція для пошуку розв'язку системи рівнянь за методом Крамера\n",
    "def findSolution(coeff):\n",
    "\n",
    "    D = []  # для зберігання матриць\n",
    "\n",
    "    for i in range(5):\n",
    "        d = []\n",
    "        for j in range(4):\n",
    "            if i == 0:\n",
    "                # матриця D\n",
    "                d.append([coeff[j][k] for k in range(4)]) \n",
    "            else:\n",
    "                # матриці D1-D4\n",
    "                d.append([coeff[j][k] if k != i-1 else coeff[j][4] for k in range(4)])  \n",
    "        D.append(d)\n",
    "\n",
    "    # Обчислення детермінантів кожної з матриць\n",
    "    determinants = [determinantOfMatrix(matrix) for matrix in D]\n",
    "\n",
    "    # Виведення результатів\n",
    "    print(\"D:\", determinants[0])\n",
    "    for i in range(1, 5):\n",
    "        print(f\"D_{i}:\", determinants[i])\n",
    "\n",
    "    # Розв'язання системи рівнянь, якщо детермінант головної матриці не рівний нулю\n",
    "    if determinants[0] != 0:\n",
    "        solutions = [determinants[i] / determinants[0] for i in range(1, 5)]\n",
    "        print(\"Значення x, y, z, w:\", solutions)\n",
    "    else:\n",
    "        # Перевірка на наявність розв'язків\n",
    "        if all(d == 0 for d in determinants[1:]):\n",
    "            print(\"Нескінченно багато розв'язків\")\n",
    "        else:\n",
    "            print(\"Немає розв'язків\")"
   ]
  },
  {
   "cell_type": "markdown",
   "metadata": {},
   "source": [
    "### <b><span style='color:#F1C40F'>|</span> Приклад використання функції </b>"
   ]
  },
  {
   "cell_type": "code",
   "execution_count": 3,
   "metadata": {},
   "outputs": [
    {
     "name": "stdout",
     "output_type": "stream",
     "text": [
      "D: 3\n",
      "D_1: 3\n",
      "D_2: 6\n",
      "D_3: -3\n",
      "D_4: 6\n",
      "Значення x, y, z, w: [1.0, 2.0, -1.0, 2.0]\n"
     ]
    }
   ],
   "source": [
    "matrix = [[2, 0, 1, 4, 9],\n",
    "        [1, 2, -1, 1, 8],\n",
    "        [2, 1, 1, 1, 5],\n",
    "        [1, -1, 2, 1, -1]]\n",
    "\n",
    "findSolution(matrix)"
   ]
  },
  {
   "cell_type": "markdown",
   "metadata": {},
   "source": [
    "## <b><span style='color:#F1C40F'>|</span> метод Гауса </b>"
   ]
  },
  {
   "cell_type": "code",
   "execution_count": 4,
   "metadata": {},
   "outputs": [],
   "source": [
    "N = 4  # Розмірність матриці (N x N+1)\n",
    "\n",
    "def gaussianElimination(mat):\n",
    "\n",
    "\t# Здійснення редукції до рядково-еквівалентної форми\n",
    "\tsingular_flag = forwardElim(mat)\n",
    "\n",
    "\t# якщо матриця є виродженою\n",
    "\tif (singular_flag != -1):\n",
    "\n",
    "\t\tprint(\"Вироджена матриця.\")\n",
    "\n",
    "\t\t# якщо права частина рівняння, що відповідає нульовому рядку, дорівнює 0, * система має нескінченно багато рішень, інакше вона несумісна\n",
    "\t\tif (mat[singular_flag][N]):\n",
    "\t\t\tprint(\"Несумісна система.\")\n",
    "\t\telse:\n",
    "\t\t\tprint(\"Можливо, нескінченна кількість рішень.\")\n",
    "\n",
    "\t\treturn\n",
    "\n",
    "\t# отримання розв'язку системи та виведення його за допомогою оберненої підстановки\n",
    "\tbackSub(mat)\n",
    "\n",
    "# Функція для обміну двома рядками\n",
    "def swap_row(mat, i, j):\n",
    "\n",
    "\tfor k in range(N + 1):\n",
    "\n",
    "\t\ttemp = mat[i][k]\n",
    "\t\tmat[i][k] = mat[j][k]\n",
    "\t\tmat[j][k] = temp\n",
    "\n",
    "# Функція для редукції матриці до рядково-еквівалентної форми\n",
    "def forwardElim(mat):\n",
    "\tfor k in range(N):\n",
    "\t\n",
    "\t\t# Ініціалізація максимального значення та індексу для опорного елемента\n",
    "\t\ti_max = k\n",
    "\t\tv_max = mat[i_max][k]\n",
    "\n",
    "\t\t# Знаходження більшої амплітуди для опорного елемента, якщо така є\n",
    "\t\tfor i in range(k + 1, N):\n",
    "\t\t\tif (abs(mat[i][k]) > v_max):\n",
    "\t\t\t\tv_max = mat[i][k]\n",
    "\t\t\t\ti_max = i\n",
    "\n",
    "\t\t# якщо головний діагональний елемент дорівнює нулю,\n",
    "\t\t# це вказує на те, що матриця є вироджена, і\n",
    "\t\t# призведе до ділення на нуль пізніше.\n",
    "\t\tif not mat[k][i_max]:\n",
    "\t\t\treturn k # Матриця є вироджена\n",
    "\n",
    "\t\t# Обміняти рядок з найбільшим значенням з поточним рядком\n",
    "\t\tif (i_max != k):\n",
    "\t\t\tswap_row(mat, k, i_max)\n",
    "\n",
    "\t\tfor i in range(k + 1, N):\n",
    "\n",
    "\t\t\t# фактор f для встановлення поточного елементу k-го рядка на 0,\n",
    "\t\t\t# і подальшої зміни к-го стовпця на 0\n",
    "\t\t\tf = mat[i][k]/mat[k][k]\n",
    "\n",
    "\t\t\t# відняти f-кратний відповідний k-й\n",
    "\t\t\t# елемент рядка\n",
    "\t\t\tfor j in range(k + 1, N + 1):\n",
    "\t\t\t\tmat[i][j] -= mat[k][j]*f\n",
    "\n",
    "\t\t\t# заповнення нижньотрикутникової матриці нулями\n",
    "\t\t\tmat[i][k] = 0\n",
    "\n",
    "\t\t# print(mat)\n",
    "\n",
    "\t# print(mat)\n",
    "\treturn -1\n",
    "\n",
    "# Функція для обчислення значень невідомих\n",
    "def backSub(mat):\n",
    "\n",
    "\tx = [None for _ in range(N)] # Масив для зберігання розв'язку\n",
    "\n",
    "\t# Початок обчислень з останнього рівняння до першого\n",
    "\tfor i in range(N-1, -1, -1):\n",
    "\n",
    "\t\t# почати з правої частини рівняння\n",
    "\t\tx[i] = mat[i][N]\n",
    "\n",
    "\t\t# Ініціалізація j від i+1, оскільки матриця верхньотрикутникова\n",
    "\t\tfor j in range(i + 1, N):\n",
    "\t\t\n",
    "\t\t\t# відняти всі ліві значення\n",
    "\t\t\t# крім коефіцієнта змінної\n",
    "\t\t\t# значення якої обчислюється\n",
    "\t\t\tx[i] -= mat[i][j]*x[j]\n",
    "\n",
    "\t\t# поділити праву частину на коефіцієнт невідомої\n",
    "\t\tx[i] = (x[i]/mat[i][i])\n",
    "\n",
    "\tprint(\"\\nРозв'язок системи:\")\n",
    "\tfor i in range(N):\n",
    "\t\tprint(\"{:.8f}\".format(x[i]))"
   ]
  },
  {
   "cell_type": "markdown",
   "metadata": {},
   "source": [
    "### <b><span style='color:#F1C40F'>|</span> Приклад використання функції </b>"
   ]
  },
  {
   "cell_type": "code",
   "execution_count": 5,
   "metadata": {},
   "outputs": [
    {
     "name": "stdout",
     "output_type": "stream",
     "text": [
      "\n",
      "Розв'язок системи:\n",
      "1.00000000\n",
      "2.00000000\n",
      "-1.00000000\n",
      "2.00000000\n"
     ]
    }
   ],
   "source": [
    "matrix = [[2, 0, 1, 4, 9],\n",
    "        [1, 2, -1, 1, 8],\n",
    "        [2, 1, 1, 1, 5],\n",
    "        [1, -1, 2, 1, -1]]\n",
    "gaussianElimination(matrix)"
   ]
  },
  {
   "cell_type": "markdown",
   "metadata": {},
   "source": [
    "## <b><span style='color:#F1C40F'>|</span> метод Жордано-Гауса </b>"
   ]
  },
  {
   "cell_type": "code",
   "execution_count": 6,
   "metadata": {},
   "outputs": [],
   "source": [
    "M = 10  # Розмірність матриці (M x M+1)\n",
    "\n",
    "# Функція для виведення матриці\n",
    "def PrintMatrix(a, n):\n",
    "\tfor i in range(n):\n",
    "\t\tprint(*a[i])\n",
    "\n",
    "# Функція для здійснення операцій над матрицею з метою редукції до розширеної ступеневої форми.\n",
    "def PerformOperation(a, n):\n",
    "\ti = 0\n",
    "\tj = 0\n",
    "\tk = 0\n",
    "\tc = 0\n",
    "\tflag = 0\n",
    "\n",
    "\t# Виконання елементарних операцій\n",
    "\tfor i in range(n):\n",
    "\t\tif (a[i][i] == 0):\n",
    "\n",
    "\t\t\tc = 1\n",
    "\t\t\twhile ((i + c) < n and a[i + c][i] == 0):\n",
    "\t\t\t\tc += 1\n",
    "\t\t\tif ((i + c) == n):\n",
    "\n",
    "\t\t\t\tflag = 1\n",
    "\t\t\t\tbreak\n",
    "\n",
    "\t\t\tj = i\n",
    "\t\t\tfor k in range(1 + n):\n",
    "\n",
    "\t\t\t\ttemp = a[j][k]\n",
    "\t\t\t\ta[j][k] = a[j+c][k]\n",
    "\t\t\t\ta[j+c][k] = temp\n",
    "\n",
    "\t\tfor j in range(n):\n",
    "\n",
    "\t\t\t# Виключення всіх i == j\n",
    "\t\t\tif (i != j):\n",
    "\t\t\t\t# Перетворення матриці до розширеної ступеневої форми (діагональної матриці)\n",
    "\t\t\t\tp = a[j][i] / a[i][i]\n",
    "\n",
    "\t\t\t\tk = 0\n",
    "\t\t\t\tfor k in range(n + 1):\n",
    "\t\t\t\t\ta[j][k] = a[j][k] - (a[i][k]) * p\n",
    "\n",
    "\treturn flag\n",
    "\n",
    "import math\n",
    "\n",
    "# Функція для виведення результату з округленням\n",
    "def PrintResult(a, n, flag):\n",
    "\n",
    "    print(\"Результат: \")\n",
    "\n",
    "    if (flag == 2):\n",
    "        print(\"Нескінченні рішення існують\")\n",
    "    elif (flag == 3):\n",
    "        print(\"Рішення не існує\")\n",
    "\n",
    "    # Виведення розв'язку з перевіркою близькості до цілого числа\n",
    "    else:\n",
    "        for i in range(n):\n",
    "            if math.isclose(a[i][n] / a[i][i], round(a[i][n] / a[i][i])):\n",
    "                print(round(a[i][n] / a[i][i]), end=\" \")\n",
    "            else:\n",
    "                print(a[i][n] / a[i][i], end=\" \")\n",
    "\n",
    "\n",
    "# Перевірка, чи існують нескінченно багато рішень чи немає розв'язку\n",
    "def CheckConsistency(a, n, flag):\n",
    "\n",
    "\t# flag == 2 для нескінченно багатьох рішень\n",
    "\t# flag == 3 для відсутності розв'язку\n",
    "\tflag = 3\n",
    "\tfor i in range(n):\n",
    "\t\tsum = 0\n",
    "\t\tfor j in range(n):\n",
    "\t\t\tsum = sum + a[i][j]\n",
    "\t\tif (sum == a[i][j]):\n",
    "\t\t\tflag = 2\n",
    "\n",
    "\treturn flag"
   ]
  },
  {
   "cell_type": "code",
   "execution_count": 7,
   "metadata": {},
   "outputs": [],
   "source": [
    "# Функція для виведення результату з округленням\n",
    "def PrintResult(a, n, flag):\n",
    "\n",
    "    print(\"Результат: \")\n",
    "\n",
    "    if (flag == 2):\n",
    "        print(\"Нескінченні рішення існують\")\n",
    "    elif (flag == 3):\n",
    "        print(\"Рішення не існує\")\n",
    "\n",
    "    # Виведення розв'язку з перевіркою близькості до цілого числа\n",
    "    else:\n",
    "        for i in range(n):\n",
    "            if math.isclose(a[i][n] / a[i][i], round(a[i][n] / a[i][i])):\n",
    "                print(round(a[i][n] / a[i][i]), end=\" \")\n",
    "            else:\n",
    "                print(a[i][n] / a[i][i], end=\" \")\n"
   ]
  },
  {
   "cell_type": "markdown",
   "metadata": {},
   "source": [
    "### <b><span style='color:#F1C40F'>|</span> Приклад використання функції </b>"
   ]
  },
  {
   "cell_type": "code",
   "execution_count": 8,
   "metadata": {},
   "outputs": [
    {
     "name": "stdout",
     "output_type": "stream",
     "text": [
      "Остаточна розширена матриця: \n",
      "2.0 0.0 0.0 0.0 1.9999999999999982\n",
      "0.0 2.0 0.0 0.0 4.0\n",
      "0.0 0.0 0.75 0.0 -0.75\n",
      "0.0 0.0 0.0 1.0 2.0\n",
      "\n",
      "Результат: \n",
      "1 2 -1 2 "
     ]
    }
   ],
   "source": [
    "matrix = [[2, 0, 1, 4, 9],\n",
    "        [1, 2, -1, 1, 8],\n",
    "        [2, 1, 1, 1, 5],\n",
    "        [1, -1, 2, 1, -1]]\n",
    "N = 4\n",
    "flag = 0\n",
    "\n",
    "flag = PerformOperation(matrix, N)\n",
    "\n",
    "if (flag == 1):\n",
    "\tflag = CheckConsistency(matrix, N, flag)\n",
    "\n",
    "print(\"Остаточна розширена матриця: \")\n",
    "PrintMatrix(matrix, N)\n",
    "print()\n",
    "\n",
    "PrintResult(matrix, N, flag)"
   ]
  },
  {
   "cell_type": "markdown",
   "metadata": {},
   "source": [
    "## <b><span style='color:#F1C40F'>|</span> метод оберненої матриці </b>"
   ]
  },
  {
   "cell_type": "code",
   "execution_count": 9,
   "metadata": {},
   "outputs": [],
   "source": [
    "A = np.array([[2, 0, 1, 4],\n",
    "        [1, 2, -1, 1],\n",
    "        [2, 1, 1, 1],\n",
    "        [1, -1, 2, 1]])\n",
    "b = np.array([9,8,5,-1])"
   ]
  },
  {
   "cell_type": "code",
   "execution_count": 10,
   "metadata": {},
   "outputs": [
    {
     "name": "stdout",
     "output_type": "stream",
     "text": [
      "Результат:\n",
      "[ 1.  2. -1.  2.]\n"
     ]
    }
   ],
   "source": [
    "# Перевірка, чи матриця коефіцієнтів є квадратною (оборотною)\n",
    "if A.shape[0] != A.shape[1]:\n",
    "  raise ValueError(\"Матриця коефіцієнтів повинна бути квадратною для оборотності\")\n",
    "\n",
    "# Спроба знайти обернену матрицю та розв'язати систему\n",
    "try:\n",
    "  # Обчислення оберненої матриці A\n",
    "  A_inv = np.linalg.inv(A)\n",
    "\n",
    "  # Розв'язання системи: X = A_inv * b\n",
    "  X = A_inv.dot(b)\n",
    "\n",
    "  print(\"Результат:\")\n",
    "  print(X)\n",
    "except np.linalg.LinAlgError:\n",
    "  print(\"Помилка: Сингулярна матриця. Унікальний розв'язок не існує.\")"
   ]
  }
 ],
 "metadata": {
  "kernelspec": {
   "display_name": ".venv",
   "language": "python",
   "name": "python3"
  },
  "language_info": {
   "codemirror_mode": {
    "name": "ipython",
    "version": 3
   },
   "file_extension": ".py",
   "mimetype": "text/x-python",
   "name": "python",
   "nbconvert_exporter": "python",
   "pygments_lexer": "ipython3",
   "version": "3.11.8"
  }
 },
 "nbformat": 4,
 "nbformat_minor": 2
}
