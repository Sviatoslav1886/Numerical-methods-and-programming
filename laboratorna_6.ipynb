{
 "cells": [
  {
   "cell_type": "markdown",
   "metadata": {},
   "source": [
    "![functions](func.jpg)"
   ]
  },
  {
   "cell_type": "markdown",
   "metadata": {},
   "source": [
    "## left rectangles method"
   ]
  },
  {
   "cell_type": "code",
   "execution_count": 1,
   "metadata": {},
   "outputs": [],
   "source": [
    "import math\n",
    "import numpy as np\n",
    "\n",
    "def f(x):\n",
    "    return 1 / math.sqrt(3 * x ** 2 + 1)\n",
    "\n",
    "def f2(x):\n",
    "    return math.log(x ** 2 + 2) / (x + 1)\n",
    "\n",
    "def left_rectangles_method(f, a, b, n):\n",
    "    h = (b - a) / n   \n",
    "    integral = 0\n",
    "    x_values = np.linspace(a, b, num=n, endpoint=False)  \n",
    "\n",
    "    for x in x_values:\n",
    "        integral += f(x)  \n",
    "\n",
    "    integral *= h   \n",
    "    return integral"
   ]
  },
  {
   "cell_type": "code",
   "execution_count": 2,
   "metadata": {},
   "outputs": [
    {
     "name": "stdout",
     "output_type": "stream",
     "text": [
      "The result of the left rectangle method for the first function with 20 rectangles: 0.2500969520250259\n",
      "The result of the left rectangle method for the second function with 20 rectangles: 0.4714943916899417\n"
     ]
    }
   ],
   "source": [
    "a1, b1 = 1.4, 2.2\n",
    "a2, b2 = 1.4, 2.2\n",
    "\n",
    "n = 20  \n",
    "\n",
    "result = left_rectangles_method(f, a1, b1, n)\n",
    "print(\"The result of the left rectangle method for the first function with {} rectangles: {}\".format(n, result))\n",
    "\n",
    "result = left_rectangles_method(f2, a2, b2, n)\n",
    "print(\"The result of the left rectangle method for the second function with {} rectangles: {}\".format(n, result))"
   ]
  },
  {
   "cell_type": "markdown",
   "metadata": {},
   "source": [
    "## right rectangles method"
   ]
  },
  {
   "cell_type": "code",
   "execution_count": 3,
   "metadata": {},
   "outputs": [],
   "source": [
    "import math\n",
    "import numpy as np\n",
    "\n",
    "def f(x):\n",
    "    return 1 / math.sqrt(3 * x ** 2 + 1)\n",
    "\n",
    "def f2(x):\n",
    "    return math.log(x ** 2 + 2) / (x + 1)\n",
    "\n",
    "def right_rectangles_method(f, a, b, n):\n",
    "    h = (b - a) / n   \n",
    "    integral = 0\n",
    "    x_values = np.linspace(a+0.1, b, num=n, endpoint=False) \n",
    "\n",
    "    for x in x_values:\n",
    "        integral += f(x)   \n",
    "\n",
    "    integral *= h   \n",
    "    return integral"
   ]
  },
  {
   "cell_type": "code",
   "execution_count": 4,
   "metadata": {},
   "outputs": [
    {
     "name": "stdout",
     "output_type": "stream",
     "text": [
      "The result of the right rectangle method for the first function with 20 rectangles: 0.24272424138526857\n",
      "The result of the right rectangle method for the second function with 20 rectangles: 0.4731930931773612\n"
     ]
    }
   ],
   "source": [
    "a1, b1 = 1.4, 2.2\n",
    "a2, b2 = 1.4, 2.2\n",
    "n = 20   \n",
    "\n",
    "result = right_rectangles_method(f, a1, b1, n)\n",
    "print(\"The result of the right rectangle method for the first function with {} rectangles: {}\".format(n, result))\n",
    "\n",
    "result = right_rectangles_method(f2, a2, b2, n)\n",
    "print(\"The result of the right rectangle method for the second function with {} rectangles: {}\".format(n, result))"
   ]
  },
  {
   "cell_type": "markdown",
   "metadata": {},
   "source": [
    "## average rectangles method"
   ]
  },
  {
   "cell_type": "code",
   "execution_count": 5,
   "metadata": {},
   "outputs": [],
   "source": [
    "import math\n",
    "import numpy as np\n",
    "\n",
    "def f(x):\n",
    "    return 1 / math.sqrt(3 * x ** 2 + 1)\n",
    "\n",
    "def f2(x):\n",
    "    return math.log(x ** 2 + 2) / (x + 1)\n",
    "\n",
    "def avr_rectangles_method(f, a, b, n):\n",
    "    h = (b - a) / n  \n",
    "    integral = 0\n",
    "    x_values = np.linspace(a, b, num=n, endpoint=False)  \n",
    " \n",
    "    for x in x_values:\n",
    "        integral += f(x+h/2)  \n",
    " \n",
    "    integral *= h   \n",
    " \n",
    "    return integral"
   ]
  },
  {
   "cell_type": "code",
   "execution_count": 6,
   "metadata": {},
   "outputs": [
    {
     "name": "stdout",
     "output_type": "stream",
     "text": [
      "The result of the average rectangles for the first function with 20 rectangles: 0.24752379787968354\n",
      "The result of the average rectangles for the second function with 20 rectangles: 0.4720516017447857\n"
     ]
    }
   ],
   "source": [
    "a1, b1 = 1.4, 2.2\n",
    "a2, b2 = 1.4, 2.2\n",
    "n = 20  \n",
    "\n",
    "result = avr_rectangles_method(f, a1, b1, n)\n",
    "print(\"The result of the average rectangles for the first function with {} rectangles: {}\".format(n, result))\n",
    "\n",
    "result = avr_rectangles_method(f2, a2, b2, n)\n",
    "print(\"The result of the average rectangles for the second function with {} rectangles: {}\".format(n, result))"
   ]
  },
  {
   "cell_type": "markdown",
   "metadata": {},
   "source": [
    "## Simpson method"
   ]
  },
  {
   "cell_type": "code",
   "execution_count": 7,
   "metadata": {},
   "outputs": [],
   "source": [
    "import math\n",
    "import numpy as np\n",
    "\n",
    "def f(x):\n",
    "    return 1 / math.sqrt(3 * x ** 2 + 1)\n",
    "\n",
    "def f2(x):\n",
    "    return math.log(x ** 2 + 2) / (x + 1)\n",
    "\n",
    "def simpson_method(f, a, b, n):\n",
    "    h = (b - a) / n   \n",
    "    integral = 0\n",
    "    x_values = np.linspace(a, b, num=n, endpoint=False) \n",
    "\n",
    "    even_values = x_values[::2]  # even by index \n",
    "    odd_values = x_values[1::2]  # odd by index \n",
    "\n",
    "    even=0\n",
    "    odd=0\n",
    "\n",
    "    integral=f(x_values[0])+f(x_values[-1])\n",
    "\n",
    "    for x in even_values:\n",
    "        even += f(x)   \n",
    "\n",
    "    even=even*4\n",
    "\n",
    "    for x in odd_values:\n",
    "        odd += f(x)   \n",
    "\n",
    "    odd=odd*2\n",
    "    \n",
    "    return h/3*(integral+odd+even)"
   ]
  },
  {
   "cell_type": "code",
   "execution_count": 8,
   "metadata": {},
   "outputs": [
    {
     "name": "stdout",
     "output_type": "stream",
     "text": [
      "The result of the simplex method for the first function with 500 rectangles: 0.24800687665813534\n",
      "The result of the simplex method for the second function with 500 rectangles: 0.4726457746006025\n"
     ]
    }
   ],
   "source": [
    "a1, b1 = 1.4, 2.2\n",
    "a2, b2 = 1.4, 2.2\n",
    "n = 500\n",
    "\n",
    "result = simpson_method(f, a1, b1, n)\n",
    "print(\"The result of the simplex method for the first function with {} rectangles: {}\".format(n, result))\n",
    "\n",
    "result = simpson_method(f2, a2, b2, n)\n",
    "print(\"The result of the simplex method for the second function with {} rectangles: {}\".format(n, result))"
   ]
  },
  {
   "cell_type": "markdown",
   "metadata": {},
   "source": [
    "## Monte Carlo"
   ]
  },
  {
   "cell_type": "code",
   "execution_count": 9,
   "metadata": {},
   "outputs": [],
   "source": [
    "import numpy as np\n",
    "import matplotlib.pyplot as plt\n",
    "import math\n",
    "\n",
    "def f(x):\n",
    "    return 1 / np.sqrt(3 * x**2 + 1)\n",
    "\n",
    "def f2(x):\n",
    "    return np.log(x ** 2 + 2) / (x + 1)\n",
    "\n",
    "def Monte_Carlo(f, a, b, n, y1, y2):\n",
    "    count = 0\n",
    "    for _ in range(n):\n",
    "        x = np.random.uniform(a, b)\n",
    "        y = np.random.uniform(y1, y2)\n",
    "\n",
    "        if y <= f(x):\n",
    "            count += 1\n",
    "\n",
    "    rectangle_area = (b-a)*(y2-y1)\n",
    "    function_area = rectangle_area * (count / n)\n",
    "    \n",
    "    return function_area"
   ]
  },
  {
   "cell_type": "code",
   "execution_count": 10,
   "metadata": {},
   "outputs": [
    {
     "name": "stdout",
     "output_type": "stream",
     "text": [
      "Estimation of the area under the graph of the function f(x) using the Monte Carlo method: 0.2477360000000001\n",
      "Estimation of the area under the graph of the function f2(x) using the Monte Carlo method: 0.4698720000000001\n"
     ]
    },
    {
     "data": {
      "image/png": "[encoded data removed]",
      "text/plain": [
       "<Figure size 1500x500 with 2 Axes>"
      ]
     },
     "metadata": {},
     "output_type": "display_data"
    }
   ],
   "source": [
    "a1, b1 = 1.4, 2.2\n",
    "a2, b2 = 1.4, 2.2\n",
    "n = 100000\n",
    "\n",
    "result1 = Monte_Carlo(f, a1, b1, n, 0,1)\n",
    "result2 = Monte_Carlo(f2, a2, b2, n, 0, 2)\n",
    "\n",
    "print(\"Estimation of the area under the graph of the function f(x) using the Monte Carlo method:\", result1)\n",
    "print(\"Estimation of the area under the graph of the function f2(x) using the Monte Carlo method:\", result2)\n",
    "\n",
    "x_values1 = np.linspace(a1, b1, 400)\n",
    "x_values2 = np.linspace(a2, b2, 400)\n",
    "\n",
    "y_values1 = f(x_values1)\n",
    "y_values2 = f2(x_values2)\n",
    "\n",
    "plt.figure(figsize=(15, 5))\n",
    "\n",
    "plt.subplot(1, 2, 1)\n",
    "plt.plot(x_values1, y_values1, color='green', label='f(x)')\n",
    "plt.axhline(0, color='blue',linewidth=3)\n",
    "plt.axvline(a1, color='blue', linestyle='--',linewidth=3)\n",
    "plt.axvline(b1, color='blue', linestyle='--',linewidth=3)\n",
    "plt.title('Graph of the function f(x)')\n",
    "plt.xlabel('x')\n",
    "plt.ylabel('f(x)')\n",
    "plt.legend()\n",
    "plt.grid(True)\n",
    "\n",
    "plt.subplot(1, 2, 2)\n",
    "plt.plot(x_values2, y_values2, color='green', label='f2(x)')\n",
    "plt.axhline(0, color='blue',linewidth=3)\n",
    "plt.axvline(a2, color='blue', linestyle='--',linewidth=3)\n",
    "plt.axvline(b2, color='blue', linestyle='--',linewidth=3)\n",
    "plt.title('Graph of the function f2(x)')\n",
    "plt.xlabel('x')\n",
    "plt.ylabel('f2(x)')\n",
    "plt.legend()\n",
    "plt.grid(True)\n",
    "\n",
    "plt.tight_layout()\n",
    "plt.show()"
   ]
  },
  {
   "cell_type": "markdown",
   "metadata": {},
   "source": [
    "## double evaluation\n"
   ]
  },
  {
   "cell_type": "code",
   "execution_count": 11,
   "metadata": {},
   "outputs": [],
   "source": [
    "import math\n",
    "import numpy as np\n",
    "\n",
    "def f(x):\n",
    "    return 1 / np.sqrt(3 * x**2 + 1)\n",
    "\n",
    "def f2(x):\n",
    "    return np.log(x ** 2 + 2) / (x + 1)\n",
    "\n",
    "def method(f, a, b, n):\n",
    "    h = (b - a) / n   \n",
    "    integral = 0\n",
    "    x_values = np.linspace(a, b, num=n, endpoint=False)  \n",
    "\n",
    "    for x in x_values:\n",
    "        integral += f(x)  \n",
    "\n",
    "    integral *= h   \n",
    "    return integral \n",
    "\n",
    "def dubl(f, a, b, n, eps=0.001):\n",
    "    n1 = 1\n",
    "    b_val = 2\n",
    "    b1_val = 0  \n",
    "\n",
    "    while (abs(b_val - b1_val) > eps):\n",
    "        b_val = method(f, a, b, n)\n",
    "        print(b_val)\n",
    "\n",
    "        n1 = n * 2\n",
    "        b1_val = method(f, a, b, n1)\n",
    "        print(b1_val)\n",
    "        \n",
    "        n = n1\n",
    "        \n",
    "    return n/2, n1, b_val, b1_val"
   ]
  },
  {
   "cell_type": "code",
   "execution_count": 12,
   "metadata": {},
   "outputs": [
    {
     "name": "stdout",
     "output_type": "stream",
     "text": [
      "0.30499714066520944\n",
      "0.27466801468890994\n",
      "0.27466801468890994\n",
      "0.260688450297191\n",
      "0.260688450297191\n",
      "0.2540065645150257\n",
      "0.2540065645150257\n",
      "0.25074335937642894\n",
      "0.25074335937642894\n",
      "0.24913123941742368\n",
      "0.24913123941742368\n",
      "0.24833005310727868\n",
      "(32.0, 64, 0.24913123941742368, 0.24833005310727868)\n"
     ]
    }
   ],
   "source": [
    "a1, b1 = 1.4, 2.2\n",
    "a2, b2 = 1.4, 2.2\n",
    "n = 1\n",
    "\n",
    "result = dubl(f, a1, b1, n)\n",
    "print(result)"
   ]
  }
 ],
 "metadata": {
  "kernelspec": {
   "display_name": "base",
   "language": "python",
   "name": "python3"
  },
  "language_info": {
   "codemirror_mode": {
    "name": "ipython",
    "version": 3
   },
   "file_extension": ".py",
   "mimetype": "text/x-python",
   "name": "python",
   "nbconvert_exporter": "python",
   "pygments_lexer": "ipython3",
   "version": "3.11.4"
  }
 },
 "nbformat": 4,
 "nbformat_minor": 2
}
