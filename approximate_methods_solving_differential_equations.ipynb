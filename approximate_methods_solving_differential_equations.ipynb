{
 "cells": [
  {
   "cell_type": "markdown",
   "metadata": {},
   "source": [
    "![equation](equation.jpg)"
   ]
  },
  {
   "cell_type": "markdown",
   "metadata": {},
   "source": [
    "## Euler's method"
   ]
  },
  {
   "cell_type": "code",
   "execution_count": 4,
   "metadata": {},
   "outputs": [],
   "source": [
    "def euler_method(f, x0, y0, h, n):\n",
    "    x_values = [x0]\n",
    "    y_values = [y0]\n",
    "    x = x0\n",
    "    y = y0\n",
    "\n",
    "    for i in range(1, n+1):\n",
    "        x = x0 + i * h\n",
    "        y += h * f(x, y)\n",
    "        x_values.append(x)\n",
    "        y_values.append(y)\n",
    "\n",
    "    return x_values, y_values\n",
    "\n",
    "def f(x, y):\n",
    "    return 2* x**2 + x + y"
   ]
  },
  {
   "cell_type": "code",
   "execution_count": 5,
   "metadata": {},
   "outputs": [
    {
     "name": "stdout",
     "output_type": "stream",
     "text": [
      "x = 0 , y = 0.5\n",
      "x = 0.1 , y = 0.562\n",
      "x = 0.2 , y = 0.6462000000000001\n",
      "x = 0.30000000000000004 , y = 0.7588200000000002\n",
      "x = 0.4 , y = 0.9067020000000002\n",
      "x = 0.5 , y = 1.0973722000000001\n",
      "x = 0.6000000000000001 , y = 1.3391094200000002\n",
      "x = 0.7000000000000001 , y = 1.6410203620000003\n",
      "x = 0.8 , y = 2.0131223982\n",
      "x = 0.9 , y = 2.46643463802\n",
      "x = 1.0 , y = 3.013078101822\n"
     ]
    }
   ],
   "source": [
    "x0 = 0\n",
    "y0 = 0.5    \n",
    "h = 0.1\n",
    "n = int((1 - x0) / h)\n",
    "\n",
    "x_values, y_values = euler_method(f, x0, y0, h, n)\n",
    "\n",
    "for i in range(len(x_values)):\n",
    "    print(\"x =\", x_values[i], \", y =\", y_values[i])"
   ]
  },
  {
   "cell_type": "markdown",
   "metadata": {},
   "source": [
    "## Runge-Kutta's method"
   ]
  },
  {
   "cell_type": "code",
   "execution_count": 7,
   "metadata": {},
   "outputs": [],
   "source": [
    "def runge_kutta(f, x0, y0, h, n):\n",
    "    x_values = [x0]\n",
    "    y_values = [y0]\n",
    "    x = x0\n",
    "    y = y0\n",
    "\n",
    "    for i in range(1, n+1):\n",
    "        k1 = h * f(x, y)\n",
    "        k2 = h * f(x + h/2, y + k1/2)\n",
    "        k3 = h * f(x + h/2, y + k2/2)\n",
    "        k4 = h * f(x + h, y + k3)\n",
    "        y += (k1 + 2*k2 + 2*k3 + k4) / 6\n",
    "        x = x0 + i * h\n",
    "        x_values.append(x)\n",
    "        y_values.append(y)\n",
    "\n",
    "    return x_values, y_values"
   ]
  },
  {
   "cell_type": "code",
   "execution_count": 8,
   "metadata": {},
   "outputs": [
    {
     "name": "stdout",
     "output_type": "stream",
     "text": [
      "x = 0 , y = 0.5\n",
      "x = 0.1 , y = 0.55844\n",
      "x = 0.2 , y = 0.6377150168333334\n",
      "x = 0.30000000000000004 , y = 0.7442231199162092\n",
      "x = 0.4 , y = 0.8850352689570635\n",
      "x = 0.5 , y = 1.0679660823893353\n",
      "x = 0.6000000000000001 , y = 1.3016520485792904\n",
      "x = 0.7000000000000001 , y = 1.5956379625717483\n",
      "x = 0.8 , y = 1.960472453460388\n",
      "x = 0.9 , y = 2.407813558451195\n",
      "x = 1.0 , y = 2.9505454002381395\n"
     ]
    }
   ],
   "source": [
    "x_values, y_values = runge_kutta(f, x0, y0, h, n)\n",
    "\n",
    "for i in range(len(x_values)):\n",
    "    print(\"x =\", x_values[i], \", y =\", y_values[i])"
   ]
  },
  {
   "cell_type": "markdown",
   "metadata": {},
   "source": [
    "## Adams's method"
   ]
  },
  {
   "cell_type": "code",
   "execution_count": 9,
   "metadata": {},
   "outputs": [],
   "source": [
    "def adams(f, x0, y0, h, n):\n",
    "    x_values = [x0]\n",
    "    y_values = [y0]\n",
    "    x = x0\n",
    "    y = y0\n",
    "\n",
    "    for i in range(1, 4):   \n",
    "        k1 = h * f(x, y)\n",
    "        k2 = h * f(x + h/2, y + k1/2)\n",
    "        k3 = h * f(x + h/2, y + k2/2)\n",
    "        k4 = h * f(x + h, y + k3)\n",
    "        y += (k1 + 2*k2 + 2*k3 + k4) / 6\n",
    "        x = x0 + i * h\n",
    "        x_values.append(x)\n",
    "        y_values.append(y)\n",
    "    \n",
    "    for i in range(4, n+1):\n",
    "        y_pred = y_values[-1] + h * (55 * f(x_values[-1], y_values[-1]) - 59 * f(x_values[-2], y_values[-2]) +\n",
    "                                      37 * f(x_values[-3], y_values[-3]) - 9 * f(x_values[-4], y_values[-4])) / 24\n",
    "        \n",
    "        y += h * (9 * f(x, y_pred) + 19 * f(x_values[-1], y_values[-1]) - 5 * f(x_values[-2], y_values[-2]) +\n",
    "                  f(x_values[-3], y_values[-3])) / 24\n",
    "        \n",
    "        x = x0 + i * h\n",
    "        x_values.append(x)\n",
    "        y_values.append(y)\n",
    "\n",
    "    return x_values, y_values"
   ]
  },
  {
   "cell_type": "code",
   "execution_count": 10,
   "metadata": {},
   "outputs": [
    {
     "name": "stdout",
     "output_type": "stream",
     "text": [
      "x = 0 , y = 0.5\n",
      "x = 0.1 , y = 0.55844\n",
      "x = 0.2 , y = 0.6377150168333334\n",
      "x = 0.30000000000000004 , y = 0.7442231199162092\n",
      "x = 0.4 , y = 0.8760365094310868\n",
      "x = 0.5 , y = 1.0473415486605284\n",
      "x = 0.6000000000000001 , y = 1.2667161147561705\n",
      "x = 0.7000000000000001 , y = 1.5433580486871636\n",
      "x = 0.8 , y = 1.8875033694641346\n",
      "x = 0.9 , y = 2.310459232254413\n",
      "x = 1.0 , y = 2.824720954212324\n"
     ]
    }
   ],
   "source": [
    "x_values, y_values = adams(f, x0, y0, h, n)\n",
    "\n",
    "for i in range(len(x_values)):\n",
    "    print(\"x =\", x_values[i], \", y =\", y_values[i])"
   ]
  },
  {
   "cell_type": "markdown",
   "metadata": {},
   "source": [
    "## Milne's method"
   ]
  },
  {
   "cell_type": "code",
   "execution_count": 11,
   "metadata": {},
   "outputs": [],
   "source": [
    "def milne(f, x0, y0, h, n):\n",
    "    x_values = [x0]\n",
    "    y_values = [y0]\n",
    "    x = x0\n",
    "    y = y0\n",
    "\n",
    "    for i in range(1, 4): # Runge-Kutta method for the first steps \n",
    "        k1 = h * f(x, y)\n",
    "        k2 = h * f(x + h/2, y + k1/2)\n",
    "        k3 = h * f(x + h/2, y + k2/2)\n",
    "        k4 = h * f(x + h, y + k3)\n",
    "        y += (k1 + 2*k2 + 2*k3 + k4) / 6\n",
    "        x = x0 + i * h\n",
    "        x_values.append(x)\n",
    "        y_values.append(y)\n",
    "    \n",
    "    for i in range(4, n+1):\n",
    "        y_new = y_values[-1] + 4*h/3 * (2*f(x_values[-1], y_values[-1]) - f(x_values[-2], y_values[-2]) +\n",
    "                                        2*f(x_values[-3], y_values[-3]))\n",
    "        \n",
    "        y += h/3 * (f(x, y_new) + 4*f(x_values[-1], y_values[-1]) + f(x_values[-2], y_values[-2]))\n",
    "        x = x0 + i * h\n",
    "        x_values.append(x)\n",
    "        y_values.append(y)\n",
    "\n",
    "    return x_values, y_values"
   ]
  },
  {
   "cell_type": "code",
   "execution_count": 12,
   "metadata": {},
   "outputs": [
    {
     "name": "stdout",
     "output_type": "stream",
     "text": [
      "x = 0 , y = 0.5\n",
      "x = 0.1 , y = 0.55844\n",
      "x = 0.2 , y = 0.6377150168333334\n",
      "x = 0.30000000000000004 , y = 0.7442231199162092\n",
      "x = 0.4 , y = 0.9916846347877954\n",
      "x = 0.5 , y = 1.3357042942866397\n",
      "x = 0.6000000000000001 , y = 1.8060808097989747\n",
      "x = 0.7000000000000001 , y = 2.437572539441189\n",
      "x = 0.8 , y = 3.2715060912642717\n",
      "x = 0.9 , y = 4.357732196734958\n",
      "x = 1.0 , y = 5.756356003148873\n"
     ]
    }
   ],
   "source": [
    "x_values, y_values = milne(f, x0, y0, h, n)\n",
    "\n",
    "for i in range(len(x_values)):\n",
    "    print(\"x =\", x_values[i], \", y =\", y_values[i])"
   ]
  }
 ],
 "metadata": {
  "kernelspec": {
   "display_name": "base",
   "language": "python",
   "name": "python3"
  },
  "language_info": {
   "codemirror_mode": {
    "name": "ipython",
    "version": 3
   },
   "file_extension": ".py",
   "mimetype": "text/x-python",
   "name": "python",
   "nbconvert_exporter": "python",
   "pygments_lexer": "ipython3",
   "version": "3.11.4"
  }
 },
 "nbformat": 4,
 "nbformat_minor": 2
}
