{
 "cells": [
  {
   "cell_type": "markdown",
   "metadata": {},
   "source": [
    "## <b><span style='color:#F1C40F'>|</span> Approximate_solution_of_nonlinear_equations </b>"
   ]
  },
  {
   "cell_type": "markdown",
   "metadata": {},
   "source": [
    "### <b><span style='color:#F1C40F'>|</span> Import libraries </b>"
   ]
  },
  {
   "cell_type": "code",
   "execution_count": 1,
   "metadata": {},
   "outputs": [],
   "source": [
    "import math"
   ]
  },
  {
   "cell_type": "markdown",
   "metadata": {},
   "source": [
    "### <b><span style='color:#F1C40F'>|</span> Function and its derivative </b>"
   ]
  },
  {
   "cell_type": "markdown",
   "metadata": {},
   "source": [
    "![f(x)](f_x.jpg)"
   ]
  },
  {
   "cell_type": "markdown",
   "metadata": {},
   "source": [
    "![graph](graph.jpg)"
   ]
  },
  {
   "cell_type": "code",
   "execution_count": 2,
   "metadata": {},
   "outputs": [],
   "source": [
    "def f(x):\n",
    "    return math.tan(0.55 * x + 0.1) - x**2"
   ]
  },
  {
   "cell_type": "code",
   "execution_count": 3,
   "metadata": {},
   "outputs": [],
   "source": [
    "def df(x):\n",
    "    temp = 11 * x / 20\n",
    "    cos = math.cos(temp)\n",
    "    cos = cos**2\n",
    "\n",
    "    result = 11 / (20*cos)\n",
    "    result -= 2*x\n",
    "    return result"
   ]
  },
  {
   "cell_type": "markdown",
   "metadata": {},
   "source": [
    "### <b><span style='color:#F1C40F'>|</span> Chord method </b>"
   ]
  },
  {
   "cell_type": "code",
   "execution_count": 4,
   "metadata": {},
   "outputs": [],
   "source": [
    "def chord_method(a, b, epsilon):\n",
    "    i = 0\n",
    "    while abs(b - a) > epsilon:\n",
    "        a = b - (b - a) * f(b) / (f(b) - f(a))\n",
    "        b = a - (a - b) * f(a) / (f(a) - f(b))\n",
    "        i += 1\n",
    "    print(i, \"iterations done\")\n",
    "    return b"
   ]
  },
  {
   "cell_type": "code",
   "execution_count": 5,
   "metadata": {},
   "outputs": [
    {
     "name": "stdout",
     "output_type": "stream",
     "text": [
      "2 iterations done\n",
      "Approximate root = 0.7501760170046553\n"
     ]
    }
   ],
   "source": [
    "root = chord_method(0.5, 1, 0.001)\n",
    "print(\"Approximate root =\", root)"
   ]
  },
  {
   "cell_type": "markdown",
   "metadata": {},
   "source": [
    "### <b><span style='color:#F1C40F'>|</span> Method of tangents </b>"
   ]
  },
  {
   "cell_type": "code",
   "execution_count": 6,
   "metadata": {},
   "outputs": [],
   "source": [
    "def method_tangents(a, b, eps):\n",
    "    x0 = a\n",
    "    xp = b\n",
    "    while abs(xp - x0) > eps:\n",
    "        x = xp - f(xp) * (x0 - xp) / (f(x0) - f(xp))\n",
    "        if f(a) * f(x) > 0:\n",
    "            x0 = x\n",
    "        else:\n",
    "            xp = x\n",
    "    return x"
   ]
  },
  {
   "cell_type": "code",
   "execution_count": 7,
   "metadata": {},
   "outputs": [
    {
     "name": "stdout",
     "output_type": "stream",
     "text": [
      "Корінь: 0.7501875234343477\n"
     ]
    }
   ],
   "source": [
    "a = 0.5\n",
    "b = 1\n",
    "eps = 0.001\n",
    "\n",
    "root = method_tangents(a, b, eps)\n",
    "print(f\"Корінь: {root}\")"
   ]
  },
  {
   "cell_type": "markdown",
   "metadata": {},
   "source": [
    "### <b><span style='color:#F1C40F'>|</span> Combined method </b>"
   ]
  },
  {
   "cell_type": "code",
   "execution_count": 8,
   "metadata": {},
   "outputs": [],
   "source": [
    "def combined_method(f, df, a, b, tol=0.001, max_iter=1000):\n",
    "    if f(a) * f(b) > 0:\n",
    "        raise ValueError(\"f(a) and f(b) must have opposite signs.\")\n",
    "\n",
    "    for _ in range(max_iter):\n",
    "        x_chord = (a * f(b) - b * f(a)) / (f(b) - f(a))\n",
    "\n",
    "        x_tangent = x_chord - f(x_chord) / df(x_chord)\n",
    "\n",
    "        if x_tangent < a or x_tangent > b:\n",
    "            if x_tangent < a:\n",
    "                a = x_tangent\n",
    "            else:\n",
    "                b = x_tangent\n",
    "            continue\n",
    "\n",
    "        if abs(f(x_tangent)) < tol:\n",
    "            return x_tangent\n",
    "\n",
    "        if f(a) * f(x_tangent) < 0:\n",
    "            b = x_tangent\n",
    "        elif f(b) * f(x_tangent) < 0:\n",
    "            a = x_tangent\n",
    "        else:\n",
    "            print(\"Failed to find root within tolerance or max iterations.\")\n",
    "            return None\n",
    "\n",
    "    print(\"Failed to find root within tolerance or max iterations.\")\n",
    "    return None"
   ]
  },
  {
   "cell_type": "code",
   "execution_count": 9,
   "metadata": {},
   "outputs": [
    {
     "name": "stdout",
     "output_type": "stream",
     "text": [
      "Approximate root: 0.7492480588696887\n"
     ]
    }
   ],
   "source": [
    "root = combined_method(f, df, 0.5, 1)\n",
    "if root is not None:\n",
    "    print(f\"Approximate root: {root}\")"
   ]
  },
  {
   "cell_type": "markdown",
   "metadata": {},
   "source": [
    "### <b><span style='color:#F1C40F'>|</span> Method of half division </b>"
   ]
  },
  {
   "cell_type": "code",
   "execution_count": 10,
   "metadata": {},
   "outputs": [],
   "source": [
    "def samesign(a, b):\n",
    "        return a * b > 0\n",
    "\n",
    "def bisect(func, low, high, tolerance=0.001):\n",
    "    assert not samesign(func(low), func(high))   \n",
    "    for i in range(54):\n",
    "        midpoint = (low + high) / 2.0\n",
    "        if samesign(func(low), func(midpoint)):\n",
    "            low = midpoint\n",
    "        else:\n",
    "            high = midpoint\n",
    "        if tolerance is not None and abs(high - low) < tolerance:\n",
    "            break   \n",
    "    return midpoint"
   ]
  },
  {
   "cell_type": "code",
   "execution_count": 11,
   "metadata": {},
   "outputs": [
    {
     "name": "stdout",
     "output_type": "stream",
     "text": [
      "Approximate root: 0.7509765625\n"
     ]
    }
   ],
   "source": [
    "root = bisect(f, 0.5, 1)\n",
    "print(f\"Approximate root: {root}\")"
   ]
  },
  {
   "cell_type": "markdown",
   "metadata": {},
   "source": [
    "### <b><span style='color:#F1C40F'>|</span> Simple iteration method </b>"
   ]
  },
  {
   "cell_type": "code",
   "execution_count": 12,
   "metadata": {},
   "outputs": [],
   "source": [
    "def iteration_method(f, x0, lambda_, eps):\n",
    "    x_prev = x0\n",
    "    while abs(f(x_prev)) > eps:\n",
    "        x = x_prev + lambda_ * f(x_prev)\n",
    "        x_prev = x\n",
    "    return x"
   ]
  },
  {
   "cell_type": "code",
   "execution_count": 13,
   "metadata": {},
   "outputs": [
    {
     "name": "stdout",
     "output_type": "stream",
     "text": [
      "Approximate root: 0.7514713109356945\n"
     ]
    }
   ],
   "source": [
    "x0 = 1\n",
    "lambda_ = 0.5\n",
    "eps = 0.001\n",
    "root = iteration_method(f, x0, lambda_, eps)\n",
    "\n",
    "print(f\"Approximate root: {root}\")"
   ]
  }
 ],
 "metadata": {
  "kernelspec": {
   "display_name": ".venv",
   "language": "python",
   "name": "python3"
  },
  "language_info": {
   "codemirror_mode": {
    "name": "ipython",
    "version": 3
   },
   "file_extension": ".py",
   "mimetype": "text/x-python",
   "name": "python",
   "nbconvert_exporter": "python",
   "pygments_lexer": "ipython3",
   "version": "3.11.8"
  }
 },
 "nbformat": 4,
 "nbformat_minor": 2
}
