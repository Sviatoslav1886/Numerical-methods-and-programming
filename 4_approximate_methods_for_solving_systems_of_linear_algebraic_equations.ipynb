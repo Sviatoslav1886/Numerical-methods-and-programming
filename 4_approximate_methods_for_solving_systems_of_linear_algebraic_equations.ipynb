{
 "cells": [
  {
   "cell_type": "markdown",
   "metadata": {},
   "source": [
    "## <b><span style='color:#F1C40F'>|</span> метод Зейделя </b>"
   ]
  },
  {
   "cell_type": "code",
   "execution_count": 1,
   "metadata": {},
   "outputs": [],
   "source": [
    "#функція яка обчислює добуток всіх елементів в ітерабельному об'єкті. \n",
    "#Вона використовується для обчислення добутків елементів рядків матриці.\n",
    "from math import prod\n",
    "\n",
    "#функція permutations, яка генерує всі можливі перестановки заданої довжини послідовності.\n",
    "#Вона використовується для пошуку найбільшого добутку елементів рядків матриці.\n",
    "from itertools import permutations\n",
    "\n",
    "#У даному випадку, використовується функція deepcopy, яка створює глибоку копію об'єкту. \n",
    "#Вона використовується для створення копій матриці X та її попередньої версії.\n",
    "from copy import deepcopy\n",
    "\n",
    "import numpy as np\n",
    "\n",
    "def gauss_seidel_combined(A, C, X, epsilon=0.001, max_iteration=1000000):\n",
    "    # Отримуємо розмірність матриці\n",
    "    n = len(A)\n",
    "    \n",
    "    # Шукаємо найбільший добуток елементів по рядках\n",
    "    max_prod = -1\n",
    "    biggest_order = None\n",
    "    for order in permutations(range(n)):\n",
    "        current_prod = prod(A[j][k] for k, j in enumerate(order))\n",
    "        if abs(current_prod) > max_prod:\n",
    "            max_prod = abs(current_prod)\n",
    "            biggest_order = order\n",
    "    \n",
    "    # Застосовуємо отриманий порядок до матриць A та C\n",
    "    if biggest_order is not None:\n",
    "        A = [A[i] for i in biggest_order]\n",
    "        C = [C[i] for i in biggest_order]\n",
    "    \n",
    "    # Копіюємо матрицю X та ініціалізуємо попередню копію\n",
    "    X, prev_X = deepcopy(X), X\n",
    "\n",
    "    for _ in range(max_iteration):\n",
    "        for i in range(n):\n",
    "            # Обчислюємо нові значення X\n",
    "            X[i][0] = (C[i][0] - sum(A[i][j] * X[j][0] for j in range(n) if j != i)) / A[i][i]\n",
    "\n",
    "        # Перевіряємо умову зупинки за точністю\n",
    "        if all(abs(X[j][0] - prev_X[j][0]) <= epsilon for j in range(n)):\n",
    "            return X\n",
    "\n",
    "        # Оновлюємо попередню копію X\n",
    "        prev_X = deepcopy(X)\n",
    "\n",
    "    # Повертаємо останнє знайдене значення X\n",
    "    return X"
   ]
  },
  {
   "cell_type": "code",
   "execution_count": 7,
   "metadata": {},
   "outputs": [
    {
     "data": {
      "text/plain": [
       "array([[-0.16920403],\n",
       "       [-0.27174148],\n",
       "       [ 0.50188791]])"
      ]
     },
     "execution_count": 7,
     "metadata": {},
     "output_type": "execute_result"
    }
   ],
   "source": [
    "A = np.array([[5.4, -6.2, -0.5],\n",
    "              [3.4, 2.3, 0.8],\n",
    "              [2.4, -1.1, 3.8]])\n",
    "\n",
    "b = np.array([0.52, -0.8, 1.8])\n",
    "X = np.zeros_like(b)\n",
    "\n",
    "solution = gauss_seidel_combined(A, b.reshape(-1, 1), X.reshape(-1, 1))\n",
    "solution"
   ]
  },
  {
   "cell_type": "markdown",
   "metadata": {},
   "source": [
    "## <b><span style='color:#F1C40F'>|</span> метод простої ітерації </b>"
   ]
  },
  {
   "cell_type": "code",
   "execution_count": 5,
   "metadata": {},
   "outputs": [],
   "source": [
    "import numpy as np\n",
    "\n",
    "def it(A, b, x0, omega, tol=1e-6, max_iter=1000):\n",
    "    # Отримуємо розмірність системи\n",
    "    n = len(b)\n",
    "    \n",
    "    # Копіюємо початкове наближення\n",
    "    x = x0.copy()\n",
    "\n",
    "    for _ in range(max_iter):\n",
    "        # Ініціалізуємо нове наближення\n",
    "        x_new = np.zeros_like(x)\n",
    "        \n",
    "        # Проводимо обчислення для кожного рядка системи\n",
    "        for i in range(n):\n",
    "            # Обчислюємо суму залежностей від вже відомих значень x\n",
    "            s = np.dot(A[i, :i], x_new[:i]) + np.dot(A[i, i + 1:], x[i + 1:])\n",
    "            \n",
    "            # Обчислюємо нове наближення x[i]\n",
    "            x_new[i] = (1 - omega) * x[i] + (omega / A[i, i]) * (b[i] - s)\n",
    "\n",
    "        # Перевіряємо умову зупинки за нормою різниці між x та x_new\n",
    "        if np.linalg.norm(x_new - x) < tol:\n",
    "            return x_new\n",
    "        \n",
    "        # Оновлюємо поточне наближення\n",
    "        x = x_new\n",
    "\n",
    "    # Якщо метод не зійшовся, викидаємо виняток\n",
    "    raise ValueError(\"method did not converge within maximum iterations.\")"
   ]
  },
  {
   "cell_type": "code",
   "execution_count": 6,
   "metadata": {},
   "outputs": [
    {
     "data": {
      "text/plain": [
       "array([-0.16941921, -0.27192291,  0.50187809])"
      ]
     },
     "execution_count": 6,
     "metadata": {},
     "output_type": "execute_result"
    }
   ],
   "source": [
    "A = np.array([[5.4, -6.2, -0.5],\n",
    "              [3.4, 2.3, 0.8],\n",
    "              [2.4, -1.1, 3.8]])\n",
    "b = np.array([0.52, -0.8, 1.8])\n",
    "x0 = np.zeros_like(b)\n",
    "omega = 0.01  \n",
    "\n",
    "solution = it(A, b, x0, omega, max_iter=2000)\n",
    "solution"
   ]
  }
 ],
 "metadata": {
  "kernelspec": {
   "display_name": ".venv",
   "language": "python",
   "name": "python3"
  },
  "language_info": {
   "codemirror_mode": {
    "name": "ipython",
    "version": 3
   },
   "file_extension": ".py",
   "mimetype": "text/x-python",
   "name": "python",
   "nbconvert_exporter": "python",
   "pygments_lexer": "ipython3",
   "version": "3.11.8"
  }
 },
 "nbformat": 4,
 "nbformat_minor": 2
}
